{
  "nbformat": 4,
  "nbformat_minor": 0,
  "metadata": {
    "colab": {
      "provenance": [],
      "gpuType": "T4"
    },
    "kernelspec": {
      "name": "python3",
      "display_name": "Python 3"
    },
    "language_info": {
      "name": "python"
    },
    "accelerator": "GPU",
    "gpuClass": "standard"
  },
  "cells": [
    {
      "cell_type": "markdown",
      "source": [
        "# **TASK 1**"
      ],
      "metadata": {
        "id": "vPwmSdk9wyJP"
      }
    },
    {
      "cell_type": "code",
      "source": [
        "import pandas as pd\n",
        "from sklearn.feature_extraction.text import TfidfVectorizer\n",
        "from sklearn.model_selection import train_test_split\n",
        "from sklearn.linear_model import LogisticRegression\n",
        "from sklearn.naive_bayes import MultinomialNB\n",
        "from sklearn.metrics import accuracy_score\n",
        "from sklearn.metrics import f1_score\n",
        "import matplotlib.pyplot as plt"
      ],
      "metadata": {
        "id": "sbQFjVV_wcyr"
      },
      "execution_count": null,
      "outputs": []
    },
    {
      "cell_type": "code",
      "source": [
        "df = pd.read_csv('/content/drive/MyDrive/CSE440/IMDB_Dataset.csv')\n",
        "tfidf_vectorizer = TfidfVectorizer()\n",
        "X = tfidf_vectorizer.fit_transform(df['review'])\n",
        "y = df['sentiment']"
      ],
      "metadata": {
        "id": "z_eLLsmqwh-L"
      },
      "execution_count": null,
      "outputs": []
    },
    {
      "cell_type": "code",
      "execution_count": null,
      "metadata": {
        "colab": {
          "base_uri": "https://localhost:8080/",
          "height": 507
        },
        "id": "F_m2ZvWS7wt4",
        "outputId": "85ddcdff-4d83-4641-f975-c532ff50c27d"
      },
      "outputs": [
        {
          "output_type": "stream",
          "name": "stdout",
          "text": [
            "F1 Score of Logistic Regression:  0.9023839890120671\n",
            "F1 Score of Naive Bayes:  0.8613317043372022\n"
          ]
        },
        {
          "output_type": "display_data",
          "data": {
            "text/plain": [
              "<Figure size 640x480 with 1 Axes>"
            ],
            "image/png": "[encoded data removed]"
          },
          "metadata": {}
        }
      ],
      "source": [
        "X_train, X_test, y_train, y_test = train_test_split(X, y, test_size=0.2, random_state=42)\n",
        "logreg = LogisticRegression(max_iter=1000)\n",
        "naive_bayes = MultinomialNB()\n",
        "\n",
        "\n",
        "logreg.fit(X_train, y_train)\n",
        "naive_bayes.fit(X_train, y_train)\n",
        "y_pred_logreg = logreg.predict(X_test)\n",
        "y_pred_naive_bayes = naive_bayes.predict(X_test)\n",
        "\n",
        "\n",
        "\n",
        "f1_logreg = f1_score(y_test, y_pred_logreg, pos_label='positive')\n",
        "f1_naive_bayes = f1_score(y_test, y_pred_naive_bayes, pos_label='positive')\n",
        "\n",
        "\n",
        "print(\"F1 Score of Logistic Regression: \", f1_logreg)\n",
        "print(\"F1 Score of Naive Bayes: \", f1_naive_bayes)\n",
        "\n",
        "\n",
        "labels = ['Logistic Regression', 'Naive Bayes']\n",
        "f1_values = [f1_logreg, f1_naive_bayes]\n",
        "\n",
        "plt.bar(labels, f1_values)\n",
        "plt.xlabel('Model')\n",
        "plt.ylabel('F1 Score')\n",
        "plt.title('Comparison of Model F1 Scores')\n",
        "plt.show()\n",
        "\n"
      ]
    },
    {
      "cell_type": "markdown",
      "source": [
        "By comparing the performance of both the models we can see that, Logistic Regression is better as it's F1 score is higher than Naive Bayes. Logistic Regression and Naive Bayes are both good choices for text classification tasks like this one. Logistic Regression can sometimes perform better if the features are roughly linear and the problem is linearly separable, while Naive Bayes can often perform well even with less data and can handle very large feature spaces."
      ],
      "metadata": {
        "id": "_AvLOXbU7zku"
      }
    },
    {
      "cell_type": "markdown",
      "source": [
        "# **TASK 2**"
      ],
      "metadata": {
        "id": "4ZMeyZ-hxT52"
      }
    },
    {
      "cell_type": "code",
      "source": [
        "from google.colab import drive\n",
        "drive.mount('/content/drive')"
      ],
      "metadata": {
        "colab": {
          "base_uri": "https://localhost:8080/"
        },
        "id": "CQlu0SRtLdQt",
        "outputId": "28b03af0-4df8-4a22-aa72-b225a2180183"
      },
      "execution_count": null,
      "outputs": [
        {
          "output_type": "stream",
          "name": "stdout",
          "text": [
            "Drive already mounted at /content/drive; to attempt to forcibly remount, call drive.mount(\"/content/drive\", force_remount=True).\n"
          ]
        }
      ]
    },
    {
      "cell_type": "code",
      "source": [
        "!pip install numpy\n",
        "!pip install scipy\n",
        "!pip install scikit-learn\n",
        "!pip install pandas\n",
        "!pip install tensorflow\n",
        "!pip install matplotlib\n",
        "!pip install nltk\n",
        "!python -m nltk.downloader -f stopwords\n",
        "!python -m nltk.downloader -f wordnet\n",
        "!pip install keras_preprocessing"
      ],
      "metadata": {
        "id": "pKI-b7pDNPRd",
        "colab": {
          "base_uri": "https://localhost:8080/"
        },
        "outputId": "df8907fe-b34f-4d5c-e70f-10a791f30591"
      },
      "execution_count": null,
      "outputs": [
        {
          "output_type": "stream",
          "name": "stdout",
          "text": [
            "Looking in indexes: https://pypi.org/simple, https://us-python.pkg.dev/colab-wheels/public/simple/\n",
            "Requirement already satisfied: numpy in /usr/local/lib/python3.10/dist-packages (1.22.4)\n",
            "Looking in indexes: https://pypi.org/simple, https://us-python.pkg.dev/colab-wheels/public/simple/\n",
            "Requirement already satisfied: scipy in /usr/local/lib/python3.10/dist-packages (1.10.1)\n",
            "Requirement already satisfied: numpy<1.27.0,>=1.19.5 in /usr/local/lib/python3.10/dist-packages (from scipy) (1.22.4)\n",
            "Looking in indexes: https://pypi.org/simple, https://us-python.pkg.dev/colab-wheels/public/simple/\n",
            "Requirement already satisfied: scikit-learn in /usr/local/lib/python3.10/dist-packages (1.2.2)\n",
            "Requirement already satisfied: numpy>=1.17.3 in /usr/local/lib/python3.10/dist-packages (from scikit-learn) (1.22.4)\n",
            "Requirement already satisfied: scipy>=1.3.2 in /usr/local/lib/python3.10/dist-packages (from scikit-learn) (1.10.1)\n",
            "Requirement already satisfied: joblib>=1.1.1 in /usr/local/lib/python3.10/dist-packages (from scikit-learn) (1.2.0)\n",
            "Requirement already satisfied: threadpoolctl>=2.0.0 in /usr/local/lib/python3.10/dist-packages (from scikit-learn) (3.1.0)\n",
            "Looking in indexes: https://pypi.org/simple, https://us-python.pkg.dev/colab-wheels/public/simple/\n",
            "Requirement already satisfied: pandas in /usr/local/lib/python3.10/dist-packages (1.5.3)\n",
            "Requirement already satisfied: python-dateutil>=2.8.1 in /usr/local/lib/python3.10/dist-packages (from pandas) (2.8.2)\n",
            "Requirement already satisfied: pytz>=2020.1 in /usr/local/lib/python3.10/dist-packages (from pandas) (2022.7.1)\n",
            "Requirement already satisfied: numpy>=1.21.0 in /usr/local/lib/python3.10/dist-packages (from pandas) (1.22.4)\n",
            "Requirement already satisfied: six>=1.5 in /usr/local/lib/python3.10/dist-packages (from python-dateutil>=2.8.1->pandas) (1.16.0)\n",
            "Looking in indexes: https://pypi.org/simple, https://us-python.pkg.dev/colab-wheels/public/simple/\n",
            "Requirement already satisfied: tensorflow in /usr/local/lib/python3.10/dist-packages (2.12.0)\n",
            "Requirement already satisfied: absl-py>=1.0.0 in /usr/local/lib/python3.10/dist-packages (from tensorflow) (1.4.0)\n",
            "Requirement already satisfied: astunparse>=1.6.0 in /usr/local/lib/python3.10/dist-packages (from tensorflow) (1.6.3)\n",
            "Requirement already satisfied: flatbuffers>=2.0 in /usr/local/lib/python3.10/dist-packages (from tensorflow) (23.3.3)\n",
            "Requirement already satisfied: gast<=0.4.0,>=0.2.1 in /usr/local/lib/python3.10/dist-packages (from tensorflow) (0.4.0)\n",
            "Requirement already satisfied: google-pasta>=0.1.1 in /usr/local/lib/python3.10/dist-packages (from tensorflow) (0.2.0)\n",
            "Requirement already satisfied: grpcio<2.0,>=1.24.3 in /usr/local/lib/python3.10/dist-packages (from tensorflow) (1.54.0)\n",
            "Requirement already satisfied: h5py>=2.9.0 in /usr/local/lib/python3.10/dist-packages (from tensorflow) (3.8.0)\n",
            "Requirement already satisfied: jax>=0.3.15 in /usr/local/lib/python3.10/dist-packages (from tensorflow) (0.4.8)\n",
            "Requirement already satisfied: keras<2.13,>=2.12.0 in /usr/local/lib/python3.10/dist-packages (from tensorflow) (2.12.0)\n",
            "Requirement already satisfied: libclang>=13.0.0 in /usr/local/lib/python3.10/dist-packages (from tensorflow) (16.0.0)\n",
            "Requirement already satisfied: numpy<1.24,>=1.22 in /usr/local/lib/python3.10/dist-packages (from tensorflow) (1.22.4)\n",
            "Requirement already satisfied: opt-einsum>=2.3.2 in /usr/local/lib/python3.10/dist-packages (from tensorflow) (3.3.0)\n",
            "Requirement already satisfied: packaging in /usr/local/lib/python3.10/dist-packages (from tensorflow) (23.1)\n",
            "Requirement already satisfied: protobuf!=4.21.0,!=4.21.1,!=4.21.2,!=4.21.3,!=4.21.4,!=4.21.5,<5.0.0dev,>=3.20.3 in /usr/local/lib/python3.10/dist-packages (from tensorflow) (3.20.3)\n",
            "Requirement already satisfied: setuptools in /usr/local/lib/python3.10/dist-packages (from tensorflow) (67.7.2)\n",
            "Requirement already satisfied: six>=1.12.0 in /usr/local/lib/python3.10/dist-packages (from tensorflow) (1.16.0)\n",
            "Requirement already satisfied: tensorboard<2.13,>=2.12 in /usr/local/lib/python3.10/dist-packages (from tensorflow) (2.12.2)\n",
            "Requirement already satisfied: tensorflow-estimator<2.13,>=2.12.0 in /usr/local/lib/python3.10/dist-packages (from tensorflow) (2.12.0)\n",
            "Requirement already satisfied: termcolor>=1.1.0 in /usr/local/lib/python3.10/dist-packages (from tensorflow) (2.3.0)\n",
            "Requirement already satisfied: typing-extensions>=3.6.6 in /usr/local/lib/python3.10/dist-packages (from tensorflow) (4.5.0)\n",
            "Requirement already satisfied: wrapt<1.15,>=1.11.0 in /usr/local/lib/python3.10/dist-packages (from tensorflow) (1.14.1)\n",
            "Requirement already satisfied: tensorflow-io-gcs-filesystem>=0.23.1 in /usr/local/lib/python3.10/dist-packages (from tensorflow) (0.32.0)\n",
            "Requirement already satisfied: wheel<1.0,>=0.23.0 in /usr/local/lib/python3.10/dist-packages (from astunparse>=1.6.0->tensorflow) (0.40.0)\n",
            "Requirement already satisfied: ml-dtypes>=0.0.3 in /usr/local/lib/python3.10/dist-packages (from jax>=0.3.15->tensorflow) (0.1.0)\n",
            "Requirement already satisfied: scipy>=1.7 in /usr/local/lib/python3.10/dist-packages (from jax>=0.3.15->tensorflow) (1.10.1)\n",
            "Requirement already satisfied: google-auth<3,>=1.6.3 in /usr/local/lib/python3.10/dist-packages (from tensorboard<2.13,>=2.12->tensorflow) (2.17.3)\n",
            "Requirement already satisfied: google-auth-oauthlib<1.1,>=0.5 in /usr/local/lib/python3.10/dist-packages (from tensorboard<2.13,>=2.12->tensorflow) (1.0.0)\n",
            "Requirement already satisfied: markdown>=2.6.8 in /usr/local/lib/python3.10/dist-packages (from tensorboard<2.13,>=2.12->tensorflow) (3.4.3)\n",
            "Requirement already satisfied: requests<3,>=2.21.0 in /usr/local/lib/python3.10/dist-packages (from tensorboard<2.13,>=2.12->tensorflow) (2.27.1)\n",
            "Requirement already satisfied: tensorboard-data-server<0.8.0,>=0.7.0 in /usr/local/lib/python3.10/dist-packages (from tensorboard<2.13,>=2.12->tensorflow) (0.7.0)\n",
            "Requirement already satisfied: tensorboard-plugin-wit>=1.6.0 in /usr/local/lib/python3.10/dist-packages (from tensorboard<2.13,>=2.12->tensorflow) (1.8.1)\n",
            "Requirement already satisfied: werkzeug>=1.0.1 in /usr/local/lib/python3.10/dist-packages (from tensorboard<2.13,>=2.12->tensorflow) (2.3.0)\n",
            "Requirement already satisfied: cachetools<6.0,>=2.0.0 in /usr/local/lib/python3.10/dist-packages (from google-auth<3,>=1.6.3->tensorboard<2.13,>=2.12->tensorflow) (5.3.0)\n",
            "Requirement already satisfied: pyasn1-modules>=0.2.1 in /usr/local/lib/python3.10/dist-packages (from google-auth<3,>=1.6.3->tensorboard<2.13,>=2.12->tensorflow) (0.3.0)\n",
            "Requirement already satisfied: rsa<5,>=3.1.4 in /usr/local/lib/python3.10/dist-packages (from google-auth<3,>=1.6.3->tensorboard<2.13,>=2.12->tensorflow) (4.9)\n",
            "Requirement already satisfied: requests-oauthlib>=0.7.0 in /usr/local/lib/python3.10/dist-packages (from google-auth-oauthlib<1.1,>=0.5->tensorboard<2.13,>=2.12->tensorflow) (1.3.1)\n",
            "Requirement already satisfied: urllib3<1.27,>=1.21.1 in /usr/local/lib/python3.10/dist-packages (from requests<3,>=2.21.0->tensorboard<2.13,>=2.12->tensorflow) (1.26.15)\n",
            "Requirement already satisfied: certifi>=2017.4.17 in /usr/local/lib/python3.10/dist-packages (from requests<3,>=2.21.0->tensorboard<2.13,>=2.12->tensorflow) (2022.12.7)\n",
            "Requirement already satisfied: charset-normalizer~=2.0.0 in /usr/local/lib/python3.10/dist-packages (from requests<3,>=2.21.0->tensorboard<2.13,>=2.12->tensorflow) (2.0.12)\n",
            "Requirement already satisfied: idna<4,>=2.5 in /usr/local/lib/python3.10/dist-packages (from requests<3,>=2.21.0->tensorboard<2.13,>=2.12->tensorflow) (3.4)\n",
            "Requirement already satisfied: MarkupSafe>=2.1.1 in /usr/local/lib/python3.10/dist-packages (from werkzeug>=1.0.1->tensorboard<2.13,>=2.12->tensorflow) (2.1.2)\n",
            "Requirement already satisfied: pyasn1<0.6.0,>=0.4.6 in /usr/local/lib/python3.10/dist-packages (from pyasn1-modules>=0.2.1->google-auth<3,>=1.6.3->tensorboard<2.13,>=2.12->tensorflow) (0.5.0)\n",
            "Requirement already satisfied: oauthlib>=3.0.0 in /usr/local/lib/python3.10/dist-packages (from requests-oauthlib>=0.7.0->google-auth-oauthlib<1.1,>=0.5->tensorboard<2.13,>=2.12->tensorflow) (3.2.2)\n",
            "Looking in indexes: https://pypi.org/simple, https://us-python.pkg.dev/colab-wheels/public/simple/\n",
            "Requirement already satisfied: matplotlib in /usr/local/lib/python3.10/dist-packages (3.7.1)\n",
            "Requirement already satisfied: contourpy>=1.0.1 in /usr/local/lib/python3.10/dist-packages (from matplotlib) (1.0.7)\n",
            "Requirement already satisfied: cycler>=0.10 in /usr/local/lib/python3.10/dist-packages (from matplotlib) (0.11.0)\n",
            "Requirement already satisfied: fonttools>=4.22.0 in /usr/local/lib/python3.10/dist-packages (from matplotlib) (4.39.3)\n",
            "Requirement already satisfied: kiwisolver>=1.0.1 in /usr/local/lib/python3.10/dist-packages (from matplotlib) (1.4.4)\n",
            "Requirement already satisfied: numpy>=1.20 in /usr/local/lib/python3.10/dist-packages (from matplotlib) (1.22.4)\n",
            "Requirement already satisfied: packaging>=20.0 in /usr/local/lib/python3.10/dist-packages (from matplotlib) (23.1)\n",
            "Requirement already satisfied: pillow>=6.2.0 in /usr/local/lib/python3.10/dist-packages (from matplotlib) (8.4.0)\n",
            "Requirement already satisfied: pyparsing>=2.3.1 in /usr/local/lib/python3.10/dist-packages (from matplotlib) (3.0.9)\n",
            "Requirement already satisfied: python-dateutil>=2.7 in /usr/local/lib/python3.10/dist-packages (from matplotlib) (2.8.2)\n",
            "Requirement already satisfied: six>=1.5 in /usr/local/lib/python3.10/dist-packages (from python-dateutil>=2.7->matplotlib) (1.16.0)\n",
            "Looking in indexes: https://pypi.org/simple, https://us-python.pkg.dev/colab-wheels/public/simple/\n",
            "Requirement already satisfied: nltk in /usr/local/lib/python3.10/dist-packages (3.8.1)\n",
            "Requirement already satisfied: click in /usr/local/lib/python3.10/dist-packages (from nltk) (8.1.3)\n",
            "Requirement already satisfied: joblib in /usr/local/lib/python3.10/dist-packages (from nltk) (1.2.0)\n",
            "Requirement already satisfied: regex>=2021.8.3 in /usr/local/lib/python3.10/dist-packages (from nltk) (2022.10.31)\n",
            "Requirement already satisfied: tqdm in /usr/local/lib/python3.10/dist-packages (from nltk) (4.65.0)\n",
            "/usr/lib/python3.10/runpy.py:126: RuntimeWarning: 'nltk.downloader' found in sys.modules after import of package 'nltk', but prior to execution of 'nltk.downloader'; this may result in unpredictable behaviour\n",
            "  warn(RuntimeWarning(msg))\n",
            "[nltk_data] Downloading package stopwords to /root/nltk_data...\n",
            "[nltk_data]   Unzipping corpora/stopwords.zip.\n",
            "/usr/lib/python3.10/runpy.py:126: RuntimeWarning: 'nltk.downloader' found in sys.modules after import of package 'nltk', but prior to execution of 'nltk.downloader'; this may result in unpredictable behaviour\n",
            "  warn(RuntimeWarning(msg))\n",
            "[nltk_data] Downloading package wordnet to /root/nltk_data...\n",
            "Looking in indexes: https://pypi.org/simple, https://us-python.pkg.dev/colab-wheels/public/simple/\n",
            "Collecting keras_preprocessing\n",
            "  Downloading Keras_Preprocessing-1.1.2-py2.py3-none-any.whl (42 kB)\n",
            "\u001b[2K     \u001b[90m━━━━━━━━━━━━━━━━━━━━━━━━━━━━━━━━━━━━━━━━\u001b[0m \u001b[32m42.6/42.6 kB\u001b[0m \u001b[31m2.4 MB/s\u001b[0m eta \u001b[36m0:00:00\u001b[0m\n",
            "\u001b[?25hRequirement already satisfied: numpy>=1.9.1 in /usr/local/lib/python3.10/dist-packages (from keras_preprocessing) (1.22.4)\n",
            "Requirement already satisfied: six>=1.9.0 in /usr/local/lib/python3.10/dist-packages (from keras_preprocessing) (1.16.0)\n",
            "Installing collected packages: keras_preprocessing\n",
            "Successfully installed keras_preprocessing-1.1.2\n"
          ]
        }
      ]
    },
    {
      "cell_type": "code",
      "source": [
        "import pandas as pd\n",
        "import numpy as np\n",
        "import nltk\n",
        "from nltk.corpus import stopwords\n",
        "nltk.download('stopwords')\n",
        "import tensorflow as tf\n",
        "from tensorflow import keras\n",
        "import matplotlib.pyplot as plt\n",
        "from sklearn.feature_extraction.text import TfidfVectorizer\n",
        "from sklearn.model_selection import train_test_split\n",
        "from sklearn.linear_model import LogisticRegression\n",
        "from sklearn.naive_bayes import MultinomialNB\n",
        "from sklearn.metrics import accuracy_score, confusion_matrix, classification_report\n",
        "from keras.preprocessing.text import Tokenizer\n",
        "from keras_preprocessing.sequence import pad_sequences\n",
        "from tensorflow.keras.callbacks import EarlyStopping\n",
        "from keras.models import Sequential\n",
        "from keras.layers import Embedding, LSTM, Dense\n"
      ],
      "metadata": {
        "id": "OA3sUVOpNMR9",
        "colab": {
          "base_uri": "https://localhost:8080/"
        },
        "outputId": "8df71080-1920-4535-8502-cbece1bc4d81"
      },
      "execution_count": null,
      "outputs": [
        {
          "output_type": "stream",
          "name": "stderr",
          "text": [
            "[nltk_data] Downloading package stopwords to /root/nltk_data...\n",
            "[nltk_data]   Package stopwords is already up-to-date!\n"
          ]
        }
      ]
    },
    {
      "cell_type": "code",
      "source": [
        "import pandas as pd\n",
        "import numpy as np\n",
        "from sklearn.model_selection import train_test_split\n",
        "from sklearn.feature_extraction.text import TfidfVectorizer\n",
        "from sklearn.linear_model import LogisticRegression\n",
        "from sklearn.naive_bayes import MultinomialNB\n",
        "from sklearn.metrics import accuracy_score, confusion_matrix, classification_report\n",
        "from sklearn.preprocessing import LabelEncoder\n",
        "import matplotlib.pyplot as plt\n",
        "from nltk.corpus import stopwords\n",
        "from nltk.stem import WordNetLemmatizer\n",
        "from sklearn.preprocessing import LabelEncoder\n",
        "from keras.preprocessing.text import Tokenizer\n",
        "from keras_preprocessing.sequence import pad_sequences\n",
        "from keras.models import Sequential\n",
        "from keras.layers import Embedding, LSTM, Dense\n",
        "from sklearn.metrics import f1_score\n",
        "import re\n",
        "import nltk\n",
        "\n"
      ],
      "metadata": {
        "id": "HtazIXL1Ec0Q"
      },
      "execution_count": null,
      "outputs": []
    },
    {
      "cell_type": "code",
      "source": [
        "import pandas as pd\n",
        "from sklearn.model_selection import train_test_split\n",
        "\n",
        "# Loading the dataset\n",
        "data = pd.read_csv('/content/drive/MyDrive/CSE440/IMDB_Dataset.csv')\n",
        "data['sentiment']=data['sentiment'].apply(lambda x: 1 if x=='positive' else 0)\n",
        "data.sample(10)\n",
        "\n",
        "# Splitting the dataset into train, test, and validation sets\n",
        "train, test = train_test_split(data, test_size=0.2, random_state=42)\n",
        "train, val = train_test_split(train, test_size=0.125, random_state=42)\n"
      ],
      "metadata": {
        "id": "wm_lNgk2ElFb"
      },
      "execution_count": null,
      "outputs": []
    },
    {
      "cell_type": "code",
      "source": [
        "from keras.preprocessing.text import Tokenizer\n",
        "from keras_preprocessing.sequence import pad_sequences\n",
        "import numpy as np\n",
        "\n",
        "# Preprocessing the reviews\n",
        "tokenizer = Tokenizer()\n",
        "tokenizer.fit_on_texts(train['review'])\n",
        "\n",
        "sequence_train = tokenizer.texts_to_sequences(train['review'])\n",
        "sequence_test = tokenizer.texts_to_sequences(test['review'])\n",
        "sequence_val = tokenizer.texts_to_sequences(val['review'])\n",
        "\n",
        "# Padding the sequences\n",
        "data_train = pad_sequences(sequence_train)\n",
        "data_test = pad_sequences(sequence_test, maxlen=data_train.shape[1])\n",
        "data_val = pad_sequences(sequence_val, maxlen=data_train.shape[1])\n",
        "\n",
        "# Converting labels to numpy array\n",
        "labels_train = np.array(train['sentiment'])\n",
        "labels_test = np.array(test['sentiment'])\n",
        "labels_val = np.array(val['sentiment'])"
      ],
      "metadata": {
        "id": "3SoyXGofbmEm"
      },
      "execution_count": null,
      "outputs": []
    },
    {
      "cell_type": "code",
      "source": [
        "# Loading the GloVe embeddings\n",
        "embeddings_index = {}\n",
        "with open('/content/drive/MyDrive/CSE440/glove.6B.100d.txt') as f:\n",
        "    for line in f:\n",
        "        word, coefs = line.split(maxsplit=1)\n",
        "        coefs = np.fromstring(coefs, 'f', sep=' ')\n",
        "        embeddings_index[word] = coefs\n",
        "\n",
        "# Creating an embedding matrix\n",
        "embedding_matrix = np.zeros((len(tokenizer.word_index) + 1, 100))\n",
        "for word, i in tokenizer.word_index.items():\n",
        "    embedding_vector = embeddings_index.get(word)\n",
        "    if embedding_vector is not None:\n",
        "        embedding_matrix[i] = embedding_vector"
      ],
      "metadata": {
        "id": "qsL5wwmYboQP"
      },
      "execution_count": null,
      "outputs": []
    },
    {
      "cell_type": "code",
      "source": [
        "from keras.models import Sequential\n",
        "from keras.layers import Embedding, LSTM, Dense\n",
        "\n",
        "# Building the model\n",
        "model = Sequential()\n",
        "model.add(Embedding(len(tokenizer.word_index) + 1, 100, weights=[embedding_matrix], trainable=False))\n",
        "model.add(LSTM(64))\n",
        "model.add(Dense(1, activation='sigmoid'))\n",
        "\n",
        "model.compile(loss='binary_crossentropy', optimizer='adam', metrics=['accuracy'])"
      ],
      "metadata": {
        "id": "RCcWv-_Pbqmm"
      },
      "execution_count": null,
      "outputs": []
    },
    {
      "cell_type": "code",
      "source": [
        "# Training the model\n",
        "model.fit(data_train, labels_train, epochs=50, batch_size=64, validation_data=(data_val, labels_val))"
      ],
      "metadata": {
        "colab": {
          "base_uri": "https://localhost:8080/"
        },
        "id": "JQEIT6H4bu86",
        "outputId": "0b391005-04b5-4889-d717-65f56318112c"
      },
      "execution_count": null,
      "outputs": [
        {
          "output_type": "stream",
          "name": "stdout",
          "text": [
            "Epoch 1/50\n",
            "547/547 [==============================] - 49s 76ms/step - loss: 0.5400 - accuracy: 0.7227 - val_loss: 0.4632 - val_accuracy: 0.7794\n",
            "Epoch 2/50\n",
            "547/547 [==============================] - 48s 88ms/step - loss: 0.3830 - accuracy: 0.8306 - val_loss: 0.3238 - val_accuracy: 0.8624\n",
            "Epoch 3/50\n",
            "547/547 [==============================] - 41s 74ms/step - loss: 0.3207 - accuracy: 0.8628 - val_loss: 0.2959 - val_accuracy: 0.8772\n",
            "Epoch 4/50\n",
            "547/547 [==============================] - 41s 76ms/step - loss: 0.2926 - accuracy: 0.8775 - val_loss: 0.2845 - val_accuracy: 0.8828\n",
            "Epoch 5/50\n",
            "547/547 [==============================] - 42s 77ms/step - loss: 0.2738 - accuracy: 0.8877 - val_loss: 0.2885 - val_accuracy: 0.8856\n",
            "Epoch 6/50\n",
            "547/547 [==============================] - 41s 75ms/step - loss: 0.2599 - accuracy: 0.8917 - val_loss: 0.2834 - val_accuracy: 0.8870\n",
            "Epoch 7/50\n",
            "547/547 [==============================] - 41s 75ms/step - loss: 0.2412 - accuracy: 0.9013 - val_loss: 0.2720 - val_accuracy: 0.8940\n",
            "Epoch 8/50\n",
            "547/547 [==============================] - 41s 76ms/step - loss: 0.2265 - accuracy: 0.9081 - val_loss: 0.2623 - val_accuracy: 0.8952\n",
            "Epoch 9/50\n",
            "547/547 [==============================] - 41s 75ms/step - loss: 0.2136 - accuracy: 0.9142 - val_loss: 0.2603 - val_accuracy: 0.8980\n",
            "Epoch 10/50\n",
            "547/547 [==============================] - 41s 75ms/step - loss: 0.2014 - accuracy: 0.9193 - val_loss: 0.2675 - val_accuracy: 0.8914\n",
            "Epoch 11/50\n",
            "547/547 [==============================] - 41s 75ms/step - loss: 0.1898 - accuracy: 0.9261 - val_loss: 0.2667 - val_accuracy: 0.8982\n",
            "Epoch 12/50\n",
            "547/547 [==============================] - 41s 76ms/step - loss: 0.1734 - accuracy: 0.9327 - val_loss: 0.2683 - val_accuracy: 0.8968\n",
            "Epoch 13/50\n",
            "547/547 [==============================] - 41s 76ms/step - loss: 0.1593 - accuracy: 0.9381 - val_loss: 0.3016 - val_accuracy: 0.8920\n",
            "Epoch 14/50\n",
            "547/547 [==============================] - 42s 77ms/step - loss: 0.1471 - accuracy: 0.9450 - val_loss: 0.2959 - val_accuracy: 0.8948\n",
            "Epoch 15/50\n",
            "547/547 [==============================] - 48s 87ms/step - loss: 0.1367 - accuracy: 0.9481 - val_loss: 0.2952 - val_accuracy: 0.8948\n",
            "Epoch 16/50\n",
            "547/547 [==============================] - 48s 88ms/step - loss: 0.1226 - accuracy: 0.9557 - val_loss: 0.3204 - val_accuracy: 0.8938\n",
            "Epoch 17/50\n",
            "547/547 [==============================] - 44s 80ms/step - loss: 0.1090 - accuracy: 0.9610 - val_loss: 0.3240 - val_accuracy: 0.8920\n",
            "Epoch 18/50\n",
            "547/547 [==============================] - 45s 83ms/step - loss: 0.0987 - accuracy: 0.9659 - val_loss: 0.3573 - val_accuracy: 0.8912\n",
            "Epoch 19/50\n",
            "547/547 [==============================] - 45s 83ms/step - loss: 0.0849 - accuracy: 0.9710 - val_loss: 0.3861 - val_accuracy: 0.8834\n",
            "Epoch 20/50\n",
            "547/547 [==============================] - 43s 79ms/step - loss: 0.0771 - accuracy: 0.9740 - val_loss: 0.3952 - val_accuracy: 0.8856\n",
            "Epoch 21/50\n",
            "547/547 [==============================] - 41s 75ms/step - loss: 0.0661 - accuracy: 0.9786 - val_loss: 0.4270 - val_accuracy: 0.8874\n",
            "Epoch 22/50\n",
            "547/547 [==============================] - 42s 77ms/step - loss: 0.0590 - accuracy: 0.9802 - val_loss: 0.4336 - val_accuracy: 0.8792\n",
            "Epoch 23/50\n",
            "547/547 [==============================] - 42s 77ms/step - loss: 0.0529 - accuracy: 0.9824 - val_loss: 0.4349 - val_accuracy: 0.8828\n",
            "Epoch 24/50\n",
            "547/547 [==============================] - 41s 75ms/step - loss: 0.0459 - accuracy: 0.9855 - val_loss: 0.4422 - val_accuracy: 0.8842\n",
            "Epoch 25/50\n",
            "547/547 [==============================] - 41s 75ms/step - loss: 0.0394 - accuracy: 0.9878 - val_loss: 0.4875 - val_accuracy: 0.8862\n",
            "Epoch 26/50\n",
            "547/547 [==============================] - 41s 75ms/step - loss: 0.0406 - accuracy: 0.9870 - val_loss: 0.5079 - val_accuracy: 0.8776\n",
            "Epoch 27/50\n",
            "547/547 [==============================] - 41s 75ms/step - loss: 0.0331 - accuracy: 0.9899 - val_loss: 0.5077 - val_accuracy: 0.8838\n",
            "Epoch 28/50\n",
            "547/547 [==============================] - 41s 75ms/step - loss: 0.0613 - accuracy: 0.9784 - val_loss: 0.5195 - val_accuracy: 0.8798\n",
            "Epoch 29/50\n",
            "547/547 [==============================] - 41s 75ms/step - loss: 0.0334 - accuracy: 0.9895 - val_loss: 0.5355 - val_accuracy: 0.8816\n",
            "Epoch 30/50\n",
            "547/547 [==============================] - 42s 76ms/step - loss: 0.0222 - accuracy: 0.9939 - val_loss: 0.5439 - val_accuracy: 0.8814\n",
            "Epoch 31/50\n",
            "547/547 [==============================] - 42s 76ms/step - loss: 0.0186 - accuracy: 0.9952 - val_loss: 0.5942 - val_accuracy: 0.8842\n",
            "Epoch 32/50\n",
            "547/547 [==============================] - 41s 75ms/step - loss: 0.0181 - accuracy: 0.9952 - val_loss: 0.6240 - val_accuracy: 0.8850\n",
            "Epoch 33/50\n",
            "547/547 [==============================] - 41s 76ms/step - loss: 0.0224 - accuracy: 0.9927 - val_loss: 0.6013 - val_accuracy: 0.8782\n",
            "Epoch 34/50\n",
            "547/547 [==============================] - 42s 76ms/step - loss: 0.0218 - accuracy: 0.9931 - val_loss: 0.6293 - val_accuracy: 0.8860\n",
            "Epoch 35/50\n",
            "547/547 [==============================] - 41s 75ms/step - loss: 0.0153 - accuracy: 0.9955 - val_loss: 0.6939 - val_accuracy: 0.8844\n",
            "Epoch 36/50\n",
            "547/547 [==============================] - 47s 85ms/step - loss: 0.0159 - accuracy: 0.9954 - val_loss: 0.6761 - val_accuracy: 0.8838\n",
            "Epoch 37/50\n",
            "547/547 [==============================] - 42s 76ms/step - loss: 0.0155 - accuracy: 0.9954 - val_loss: 0.6633 - val_accuracy: 0.8830\n",
            "Epoch 38/50\n",
            "547/547 [==============================] - 42s 76ms/step - loss: 0.0147 - accuracy: 0.9956 - val_loss: 0.6951 - val_accuracy: 0.8872\n",
            "Epoch 39/50\n",
            "547/547 [==============================] - 42s 76ms/step - loss: 0.0191 - accuracy: 0.9940 - val_loss: 0.7270 - val_accuracy: 0.8696\n",
            "Epoch 40/50\n",
            "547/547 [==============================] - 41s 75ms/step - loss: 0.0177 - accuracy: 0.9943 - val_loss: 0.7109 - val_accuracy: 0.8870\n",
            "Epoch 41/50\n",
            "547/547 [==============================] - 41s 75ms/step - loss: 0.0096 - accuracy: 0.9974 - val_loss: 0.6676 - val_accuracy: 0.8874\n",
            "Epoch 42/50\n",
            "547/547 [==============================] - 41s 74ms/step - loss: 0.0179 - accuracy: 0.9940 - val_loss: 0.7593 - val_accuracy: 0.8840\n",
            "Epoch 43/50\n",
            "547/547 [==============================] - 40s 74ms/step - loss: 0.0129 - accuracy: 0.9959 - val_loss: 0.7325 - val_accuracy: 0.8842\n",
            "Epoch 44/50\n",
            "547/547 [==============================] - 41s 74ms/step - loss: 0.0091 - accuracy: 0.9976 - val_loss: 0.7968 - val_accuracy: 0.8860\n",
            "Epoch 45/50\n",
            "547/547 [==============================] - 41s 75ms/step - loss: 0.0158 - accuracy: 0.9950 - val_loss: 0.7778 - val_accuracy: 0.8816\n",
            "Epoch 46/50\n",
            "547/547 [==============================] - 41s 74ms/step - loss: 0.0148 - accuracy: 0.9954 - val_loss: 0.8031 - val_accuracy: 0.8876\n",
            "Epoch 47/50\n",
            "547/547 [==============================] - 41s 75ms/step - loss: 0.0075 - accuracy: 0.9980 - val_loss: 0.8171 - val_accuracy: 0.8820\n",
            "Epoch 48/50\n",
            "547/547 [==============================] - 41s 74ms/step - loss: 0.0074 - accuracy: 0.9982 - val_loss: 0.7965 - val_accuracy: 0.8884\n",
            "Epoch 49/50\n",
            "547/547 [==============================] - 41s 74ms/step - loss: 0.0192 - accuracy: 0.9939 - val_loss: 0.7877 - val_accuracy: 0.8832\n",
            "Epoch 50/50\n",
            "547/547 [==============================] - 41s 75ms/step - loss: 0.0188 - accuracy: 0.9941 - val_loss: 0.7356 - val_accuracy: 0.8804\n"
          ]
        },
        {
          "output_type": "execute_result",
          "data": {
            "text/plain": [
              "<keras.callbacks.History at 0x7f01401f8fa0>"
            ]
          },
          "metadata": {},
          "execution_count": 13
        }
      ]
    },
    {
      "cell_type": "code",
      "source": [
        "from sklearn.metrics import f1_score\n",
        "\n",
        "# Predicting the labels\n",
        "pred_test = (model.predict(data_test) > 0.5).astype('int32')\n",
        "\n",
        "# Calculating the F1-score\n",
        "f1 = f1_score(labels_test, pred_test)\n",
        "print(\"F1 Score:\",f1)\n"
      ],
      "metadata": {
        "colab": {
          "base_uri": "https://localhost:8080/"
        },
        "id": "vpVvI_PDbx_X",
        "outputId": "a770ee62-7285-4205-8d30-db75dd110f10"
      },
      "execution_count": null,
      "outputs": [
        {
          "output_type": "stream",
          "name": "stdout",
          "text": [
            "313/313 [==============================] - 9s 27ms/step\n",
            "F1 Score:  0.8852522513798781\n"
          ]
        }
      ]
    },
    {
      "cell_type": "markdown",
      "source": [
        "The F1 score of RNN model is 0.88. The F1 score of the Logistic Regression is\n",
        "0.9023839890120671 and the Multinomial Naive Bayes is 0.8613317043372022. So, by comparing the F1 scores, we can say that the RNN model performs better than the Naive Bayes model but worse than the Logistic Regression model."
      ],
      "metadata": {
        "id": "R4avM63NOgss"
      }
    }
  ]
}